{
  "nbformat": 4,
  "nbformat_minor": 0,
  "metadata": {
    "colab": {
      "provenance": []
    },
    "kernelspec": {
      "name": "python3",
      "display_name": "Python 3"
    },
    "language_info": {
      "name": "python"
    }
  },
  "cells": [
    {
      "cell_type": "code",
      "source": [
        "import heapq"
      ],
      "metadata": {
        "id": "dtjxY9qVBBJg"
      },
      "execution_count": 4,
      "outputs": []
    },
    {
      "cell_type": "code",
      "execution_count": 31,
      "metadata": {
        "id": "a7aIEqGIGFIq"
      },
      "outputs": [],
      "source": [
        "class Stack:\n",
        "    \"A container with a last-in-first-out (LIFO) queuing policy.\"\n",
        "    def __init__(self):\n",
        "        self.list = []\n",
        "\n",
        "    def push(self,item):\n",
        "        \"Push 'item' onto the stack\"\n",
        "        self.list.append(item)\n",
        "\n",
        "    def pop(self):\n",
        "        \"Pop the most recently pushed item from the stack\"\n",
        "        return self.list.pop()\n",
        "\n",
        "    def isEmpty(self):\n",
        "        \"Returns true if the stack is empty\"\n",
        "        return len(self.list) == 0\n",
        "\n",
        "class Queue:\n",
        "    \"A container with a first-in-first-out (FIFO) queuing policy.\"\n",
        "    def __init__(self):\n",
        "        self.list = []\n",
        "\n",
        "    def push(self,item):\n",
        "        \"Enqueue the 'item' into the queue\"\n",
        "        self.list.insert(0,item)\n",
        "\n",
        "    def pop(self):\n",
        "        \"\"\"\n",
        "          Dequeue the earliest enqueued item still in the queue. This\n",
        "          operation removes the item from the queue.\n",
        "        \"\"\"\n",
        "        return self.list.pop()\n",
        "\n",
        "    def isEmpty(self):\n",
        "        \"Returns true if the queue is empty\"\n",
        "        return len(self.list) == 0\n",
        "\n",
        "class PriorityQueue:\n",
        "    \"\"\"\n",
        "      Implements a priority queue data structure. Each inserted item\n",
        "      has a priority associated with it and the client is usually interested\n",
        "      in quick retrieval of the lowest-priority item in the queue. This\n",
        "      data structure allows O(1) access to the lowest-priority item.\n",
        "    \"\"\"\n",
        "    def  __init__(self):\n",
        "        self.heap = []\n",
        "        self.count = 0\n",
        "\n",
        "    def push(self, item, priority):\n",
        "        entry = (priority, self.count, item)\n",
        "        heapq.heappush(self.heap, entry)\n",
        "        self.count += 1\n",
        "\n",
        "    def pop(self):\n",
        "        (_, _, item) = heapq.heappop(self.heap)\n",
        "        return item\n",
        "\n",
        "    def isEmpty(self):\n",
        "        return len(self.heap) == 0\n",
        "\n",
        "    def update(self, item, priority):\n",
        "        # If item already in priority queue with higher priority, update its priority and rebuild the heap.\n",
        "        # If item already in priority queue with equal or lower priority, do nothing.\n",
        "        # If item not in priority queue, do the same thing as self.push.\n",
        "        for index, (p, c, i) in enumerate(self.heap):\n",
        "            if i == item:\n",
        "                if p <= priority:\n",
        "                    break\n",
        "                del self.heap[index]\n",
        "                self.heap.append((priority, c, item))\n",
        "                heapq.heapify(self.heap)\n",
        "                break\n",
        "        else:\n",
        "            self.push(item, priority)\n",
        "\n",
        "\n",
        "def path_addition(graph,arr):\n",
        "    sum=0\n",
        "    for i in range(len(arr)-1):\n",
        "        c_node=arr[i]\n",
        "        n_node=arr[i+1]\n",
        "        local=graph.get(c_node)\n",
        "        for l_node,cost in local:\n",
        "            if(l_node==n_node):\n",
        "                sum+=cost\n",
        "                break\n",
        "    return sum"
      ]
    },
    {
      "cell_type": "code",
      "source": [
        "graph1 = { \"a\" : [\"b\",\"g\"],\n",
        "          \"b\" : [\"c\", \"e\"],\n",
        "          \"c\" : [\"g\"],\n",
        "          \"d\" : [\"b\",\"e\"],\n",
        "          \"e\" : [\"g\"],\n",
        "          \"s\" : [\"a\",\"d\"]\n",
        "        }"
      ],
      "metadata": {
        "id": "ox3T27EQIEto"
      },
      "execution_count": 7,
      "outputs": []
    },
    {
      "cell_type": "code",
      "source": [
        "def depthFirstSearch(problem,start_st,end_st):\n",
        "\n",
        "\n",
        "    stack=Stack()\n",
        "    visit_node=set()\n",
        "    stack.push((start_st,[start_st]))\n",
        "    while (len(stack.list)!=0):\n",
        "        state,path=stack.pop()\n",
        "\n",
        "        if (state in visit_node):\n",
        "            continue\n",
        "        visit_node.add(state)\n",
        "\n",
        "        if (state==end_st):\n",
        "            return {\"path\":path,\"cost\":path_addition(problem,path)}\n",
        "\n",
        "        for succ, _ in problem.get(state,[]):\n",
        "            if succ not in visit_node:\n",
        "                    new_path=path+[succ]\n",
        "                    stack.push((succ,new_path))\n",
        "\n",
        "    return []\n",
        "\n",
        "def breadthFirstSearch(problem,start_st,end_st):\n",
        "\n",
        "    queue=Queue()\n",
        "    visit_node=set()\n",
        "    queue.push((start_st,[start_st],0))\n",
        "    while (len(queue.list)!=0):\n",
        "        state,path,total_cost=queue.pop()\n",
        "\n",
        "        if (state in visit_node):\n",
        "            continue\n",
        "        visit_node.add(state)\n",
        "\n",
        "        if (state==end_st):\n",
        "            return {\"path\":path,\"cost\":path_addition(problem,path)}\n",
        "\n",
        "        for succ,succ_cost in problem.get(state):\n",
        "            if succ not in visit_node:\n",
        "                    new_path=path+[succ]\n",
        "                    new_cost=total_cost+succ_cost\n",
        "                    queue.push((succ,new_path,total_cost))\n",
        "\n",
        "    return []\n",
        "\n"
      ],
      "metadata": {
        "id": "zJeLYtyGKUqL"
      },
      "execution_count": 60,
      "outputs": []
    },
    {
      "cell_type": "code",
      "source": [
        "graph = {\n",
        "          \"s\" : [(\"a\",3),(\"d\",2)],\n",
        "          \"a\" : [(\"b\",5),(\"g\",10)],\n",
        "          \"b\" : [(\"c\",1), (\"e\",2)],\n",
        "          \"c\" : [(\"g\",3)],\n",
        "          \"d\" : [(\"b\",1),(\"e\",4)],\n",
        "          \"e\" : [(\"g\",4)],\n",
        "\n",
        "        }"
      ],
      "metadata": {
        "id": "etyBRbAtBRnw"
      },
      "execution_count": 63,
      "outputs": []
    },
    {
      "cell_type": "code",
      "source": [
        "print(depthFirstSearch(graph,'s','g'))\n",
        "print(breadthFirstSearch(graph,'s','g'))"
      ],
      "metadata": {
        "colab": {
          "base_uri": "https://localhost:8080/"
        },
        "id": "ZNAkcpQwKgJt",
        "outputId": "3ca3f295-a25f-4837-a7d8-68f066aa551b"
      },
      "execution_count": 64,
      "outputs": [
        {
          "output_type": "stream",
          "name": "stdout",
          "text": [
            "{'path': ['s', 'd', 'e', 'g'], 'cost': 10}\n",
            "{'path': ['s', 'a', 'g'], 'cost': 13}\n"
          ]
        }
      ]
    },
    {
      "cell_type": "code",
      "source": [
        "def uniformCostSearch(problem,start_st,end_st):\n",
        "    p_queue=PriorityQueue()\n",
        "    visit_node=dict()\n",
        "\n",
        "    p_queue.push((start_st,[start_st],0),0)\n",
        "\n",
        "    while(len(p_queue.heap)!=0):\n",
        "        state,path,current=p_queue.pop()\n",
        "\n",
        "        if(state in visit_node and visit_node[state]<=current):\n",
        "            continue\n",
        "        visit_node[state]=current\n",
        "\n",
        "        if(state==end_st):\n",
        "            return {'path': path, 'cost': current}\n",
        "\n",
        "        for succ,step_cost in problem.get(state,[]):\n",
        "            t_cost=current+step_cost\n",
        "            if (succ not in visit_node or t_cost< visit_node.get(succ)):\n",
        "                new_path=path+[succ]\n",
        "\n",
        "                p_queue.push((succ,new_path,t_cost),t_cost)\n",
        "\n",
        "    return []"
      ],
      "metadata": {
        "id": "nPckDamzFf5f"
      },
      "execution_count": 10,
      "outputs": []
    },
    {
      "cell_type": "code",
      "source": [
        "uniformCostSearch(graph,'s','g')"
      ],
      "metadata": {
        "colab": {
          "base_uri": "https://localhost:8080/"
        },
        "id": "qCBxfkwXHt6N",
        "outputId": "579d5d80-ed19-4fcf-d622-d246b4516683"
      },
      "execution_count": 57,
      "outputs": [
        {
          "output_type": "execute_result",
          "data": {
            "text/plain": [
              "{'path': ['s', 'd', 'b', 'c', 'g'], 'cost': 7}"
            ]
          },
          "metadata": {},
          "execution_count": 57
        }
      ]
    },
    {
      "cell_type": "code",
      "source": [
        "heuristic1={\n",
        "    's':7,\n",
        "    'a':6,\n",
        "    'b':4,\n",
        "    'c':2,\n",
        "    'd':4,\n",
        "    'e':2,\n",
        "    'g':0\n",
        "}\n",
        "heuristic2={\n",
        "    's':10,\n",
        "    'a':9,\n",
        "    'b':7,\n",
        "    'c':6,\n",
        "    'd':8,\n",
        "    'e':7,\n",
        "    'g':0\n",
        "}"
      ],
      "metadata": {
        "id": "CB0kyWtrWYKM"
      },
      "execution_count": 11,
      "outputs": []
    },
    {
      "cell_type": "code",
      "source": [
        "def greedySearch(problem,heuristic,start_st,end_st):\n",
        "    p_queue=PriorityQueue()\n",
        "    visit_node=set()\n",
        "\n",
        "    p_queue.push((start_st,[start_st]),heuristic[start_st])\n",
        "\n",
        "    while(len(p_queue.heap)!=0):\n",
        "        state,path=p_queue.pop()\n",
        "\n",
        "        if(state in visit_node ):\n",
        "            continue\n",
        "        visit_node.add(state);\n",
        "\n",
        "        if(state==end_st):\n",
        "            return {'path': path,'cost':path_addition(problem,path)}\n",
        "\n",
        "        for succ,_ in problem.get(state,[]):\n",
        "            if (succ not in visit_node ):\n",
        "                new_path=path+[succ]\n",
        "\n",
        "                p_queue.push((succ,new_path),heuristic.get(succ,0))\n",
        "\n",
        "    return []"
      ],
      "metadata": {
        "id": "H6krErC9IDBZ"
      },
      "execution_count": 38,
      "outputs": []
    },
    {
      "cell_type": "code",
      "source": [
        "print(greedySearch(graph,heuristic1,'s','g'))\n",
        "print(greedySearch(graph,heuristic2,'s','g'))"
      ],
      "metadata": {
        "colab": {
          "base_uri": "https://localhost:8080/"
        },
        "id": "SpQltLHT0qyD",
        "outputId": "01840f5c-8dc7-459f-cde3-94626cc7527d"
      },
      "execution_count": 39,
      "outputs": [
        {
          "output_type": "stream",
          "name": "stdout",
          "text": [
            "{'path': ['s', 'd', 'e', 'g'], 'cost': 10}\n",
            "{'path': ['s', 'd', 'b', 'c', 'g'], 'cost': 7}\n"
          ]
        }
      ]
    },
    {
      "cell_type": "code",
      "source": [
        "def aStarSearch(problem,heuristic,start_st,end_st):\n",
        "    p_queue=PriorityQueue()\n",
        "    visit_node=dict()\n",
        "    p_queue.push((start_st,[start_st],0),heuristic[start_st])\n",
        "\n",
        "    while(len(p_queue.heap)!=0):\n",
        "        state,path,current=p_queue.pop()\n",
        "\n",
        "        if(state in visit_node and visit_node[state]<=current):\n",
        "            continue\n",
        "        visit_node[state]=current\n",
        "\n",
        "        if(state==end_st):\n",
        "            return {\"path\":path,\"cost\":path_addition(problem,path)}\n",
        "\n",
        "        for succ,step_cost in problem.get(state,[]):\n",
        "            t_cost=current+step_cost\n",
        "            if (succ not in visit_node or t_cost< visit_node[succ]):\n",
        "                pirority=t_cost+heuristic[succ]\n",
        "                p_queue.push((succ,path+[succ],t_cost),pirority)\n",
        "\n",
        "    return []"
      ],
      "metadata": {
        "id": "JdPG1Eos_7Oq"
      },
      "execution_count": 53,
      "outputs": []
    },
    {
      "cell_type": "code",
      "source": [
        "print(aStarSearch(graph,heuristic1,'s','g'))\n",
        "print(aStarSearch(graph,heuristic2,'s','g'))"
      ],
      "metadata": {
        "colab": {
          "base_uri": "https://localhost:8080/"
        },
        "id": "NivvMTatA_EN",
        "outputId": "435b3a13-c090-4490-c35c-57d0d44b93d9"
      },
      "execution_count": 54,
      "outputs": [
        {
          "output_type": "stream",
          "name": "stdout",
          "text": [
            "{'path': ['s', 'd', 'b', 'c', 'g'], 'cost': 7}\n",
            "{'path': ['s', 'd', 'b', 'c', 'g'], 'cost': 7}\n"
          ]
        }
      ]
    }
  ]
}